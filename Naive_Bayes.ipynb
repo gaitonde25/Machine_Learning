{
 "cells": [
  {
   "cell_type": "code",
   "execution_count": null,
   "metadata": {
    "id": "NK2atPeSSb4X"
   },
   "outputs": [],
   "source": [
    "# Do not make any changes in this cell\n",
    "# Simply execute it and move on\n",
    "\n",
    "import pandas as pd  \n",
    "import numpy as np \n",
    "import matplotlib.pyplot as plt\n",
    "import json\n",
    "ans = [0]*8"
   ]
  },
  {
   "cell_type": "code",
   "execution_count": null,
   "metadata": {
    "colab": {
     "base_uri": "https://localhost:8080/",
     "height": 415
    },
    "id": "Rkzprys5Ssux",
    "outputId": "c302fe11-4fa6-42ed-bc88-57f6d5efd4e2"
   },
   "outputs": [],
   "source": [
    "# Simply execute this cell and move on\n",
    "\n",
    "#Import the dataset and define the feature as well as the target datasets / columns  \n",
    "dataset = pd.read_csv('heart.csv')  \n",
    "#We drop the 'trestbps','chol','thalach','oldpeak' as they have numerical values  \n",
    "dataset=dataset.drop('trestbps',axis=1) \n",
    "dataset=dataset.drop('chol',axis=1) \n",
    "dataset=dataset.drop('thalach',axis=1) \n",
    "dataset=dataset.drop('oldpeak',axis=1) \n",
    "dataset"
   ]
  },
  {
   "cell_type": "code",
   "execution_count": null,
   "metadata": {
    "colab": {
     "base_uri": "https://localhost:8080/",
     "height": 68
    },
    "id": "V7WYWeR3StYr",
    "outputId": "260a033e-5895-4628-f391-4a90afe64778"
   },
   "outputs": [],
   "source": [
    "#These are the meanings of above features in the dataset\n",
    "'''\n",
    "age\n",
    "sex\n",
    "chest pain type (4 values)\n",
    "resting blood pressure\n",
    "serum cholestoral in mg/dl\n",
    "fasting blood sugar > 120 mg/dl\n",
    "resting electrocardiographic results (values 0,1,2)\n",
    "maximum heart rate achieved\n",
    "exercise induced angina\n",
    "oldpeak = ST depression induced by exercise relative to rest\n",
    "the slope of the peak exercise ST segment\n",
    "number of major vessels (0-3) colored by flourosopy\n",
    "thal: 3 = normal; 6 = fixed defect; 7 = reversable defect\n",
    "'''"
   ]
  },
  {
   "cell_type": "code",
   "execution_count": null,
   "metadata": {
    "id": "8ddfRhWRS7vx",
    "scrolled": true
   },
   "outputs": [],
   "source": [
    "# Divide the age feature  into groups \n",
    "# Group the data based on age (<30 , range(30,40) , range(40,50) ,  range(50,60) , range(60,70) , >=70 )\n",
    "#              = [ -1 ,     0        ,     1        ,         2     ,          3   ,   4   ]\n",
    "\n",
    "# Write code here\n",
    "dataset.loc[dataset['age']<30 , ['age']] = -1\n",
    "dataset.loc[(dataset['age']>=30)&(dataset['age']<40) , ['age']]=0\n",
    "dataset.loc[(dataset['age']>=40)&(dataset['age']<50) , ['age']]=1\n",
    "dataset.loc[(dataset['age']>=50)&(dataset['age']<60) , ['age']]=2\n",
    "dataset.loc[(dataset['age']>=60)&(dataset['age']<70) , ['age']]=3\n",
    "dataset.loc[dataset['age']>=70 , ['age']]=4"
   ]
  },
  {
   "cell_type": "code",
   "execution_count": null,
   "metadata": {
    "id": "wGT4FriITDRv"
   },
   "outputs": [],
   "source": [
    "# QUESTION -1 :- (1mark)\n",
    "#       Bayes theorm \n",
    "#       Find the following from the above data set \n",
    "#           - Find P(\"cp\"=1,\"thal\"=2,\"slope\"=2 / Y=1) i.e.find the probability of ( \"cp\"=1 and \"thal\"=2 and \"slope\"=2 ) given that \"target\"=1\n",
    "#       Assign your answer to ans[-1]"
   ]
  },
  {
   "cell_type": "code",
   "execution_count": null,
   "metadata": {
    "id": "j-S6EAtsTGkp"
   },
   "outputs": [],
   "source": [
    "#Write code here\n",
    "Y_1 = dataset.loc[dataset['target']==1]\n",
    "X = Y_1.loc[(Y_1['cp']==1) & (Y_1['thal']==2) & (Y_1['slope']==2)]\n",
    "P = X.shape[0]/Y_1.shape[0]"
   ]
  },
  {
   "cell_type": "code",
   "execution_count": null,
   "metadata": {
    "id": "bvqK719GTOKz"
   },
   "outputs": [],
   "source": [
    "#Write your answer here\n",
    "ans[0]=P"
   ]
  },
  {
   "cell_type": "code",
   "execution_count": null,
   "metadata": {
    "id": "ir_vfuHsTQdj"
   },
   "outputs": [],
   "source": [
    "# QUESTION -2 :- (1mark)\n",
    "#       Find the prior distribution on the whole above data set , i.e. P(Y=1) and P(Y=0)\n",
    "#       Enter value of P(Y=1) in ans[0]"
   ]
  },
  {
   "cell_type": "code",
   "execution_count": null,
   "metadata": {
    "id": "G9THBVeKTVxL"
   },
   "outputs": [],
   "source": [
    "# Write your code here\n",
    "#P(Y)\n",
    "#Prior distribution\n",
    "P_Y1= Y_1.shape[0]/dataset.shape[0]\n",
    "P_Y0= 1-P_Y1"
   ]
  },
  {
   "cell_type": "code",
   "execution_count": null,
   "metadata": {
    "id": "nf4lK5-gTXzn"
   },
   "outputs": [],
   "source": [
    "# Enter your answer here\n",
    "ans[1]=P_Y1"
   ]
  },
  {
   "cell_type": "code",
   "execution_count": null,
   "metadata": {
    "id": "8ITQ0S4cTah0"
   },
   "outputs": [],
   "source": [
    "# QUESTION -3:- (3marks)\n",
    "#         Find the class conditional distribution on the above data set i.e. find P(X/Y)\n",
    "#         Note: If class conditional probability = 0 assign 0.00000000000000001 (a low value) \n",
    "#         Find the class conditional probability of the feature \"slope\"= 0,1,2 when \"target\"=0 i.e. \n",
    "# P(X(slope)=i/Y=0) where i=0,1,2\n",
    "#         Assign the answer to ans[1] in form of a list as [P(X(slope)=0/Y=0) , P(X(slope)=1/Y=0) ,\n",
    "# P(X(slope)=2/Y=0)]"
   ]
  },
  {
   "cell_type": "code",
   "execution_count": null,
   "metadata": {
    "id": "Vy8IWj_wTfVI"
   },
   "outputs": [],
   "source": [
    "#Write your code below\n",
    "#Class conditional distribution\n",
    "#P(x/y)\n",
    "Y_0 = dataset.loc[dataset['target']==0]\n",
    "X0 = Y_0.loc[Y_0['slope']==0]\n",
    "X1 = Y_0.loc[Y_0['slope']==1]\n",
    "X2 = Y_0.loc[Y_0['slope']==2]\n",
    "P_X0 = X0.shape[0]/Y_0.shape[0]\n",
    "P_X1 = X1.shape[0]/Y_0.shape[0]\n",
    "P_X2 = X2.shape[0]/Y_0.shape[0]"
   ]
  },
  {
   "cell_type": "code",
   "execution_count": null,
   "metadata": {
    "id": "SwGyViZZThMw"
   },
   "outputs": [],
   "source": [
    "# Assign your answer here\n",
    "ans[2]= [P_X0,P_X1,P_X2]"
   ]
  },
  {
   "cell_type": "code",
   "execution_count": null,
   "metadata": {
    "colab": {
     "base_uri": "https://localhost:8080/"
    },
    "id": "DFcjaHhyUISb",
    "outputId": "921bae3c-4a60-448f-908f-632a48f0641e"
   },
   "outputs": [],
   "source": [
    "(Y_0.loc[Y_0['slope']==0]).shape[0]"
   ]
  },
  {
   "cell_type": "code",
   "execution_count": null,
   "metadata": {
    "id": "UhrHktcrToq5"
   },
   "outputs": [],
   "source": [
    "# QUESTION - 4:- (3marks)\n",
    "#         Find the posterior distribution of the above dataset\n",
    "#         i.e. Find P(Y/X) \n",
    "#         For X={\"age\":-1,'sex': 0,'cp':0 ,'fbs':1,'restecg':1,'exang':1,'slope':2,'ca':1,'thal':1}\n",
    "#             - Find the label value (1 or 0) and also the respective confidence also the value of \n",
    "#               k in {  P(Y/X)=k*P(X1/Y)*P(X2/Y)*P(X3/Y)*P(X4/Y)......*P(Xn/Y)*P(Y) for n features   }\n",
    "#         eg: if the answer is Y=0 with confidence =0.89 and k= 2100.8\n",
    "#             your answer should be ans[2]=[0,0.89,2100.8]"
   ]
  },
  {
   "cell_type": "code",
   "execution_count": null,
   "metadata": {
    "id": "xgvSL0mGTq13"
   },
   "outputs": [],
   "source": [
    "#Write code here\n",
    "# posterior distribution\n",
    "#P(y/x)\n",
    "t0 = (Y_0.loc[Y_0['age']==-1]).shape[0] * (Y_0.loc[Y_0['sex']== 0]).shape[0] *(Y_0.loc[Y_0['cp']== 0]).shape[0] *(Y_0.loc[Y_0['fbs']== 1]).shape[0] *(Y_0.loc[Y_0['restecg']== 1]).shape[0] *(Y_0.loc[Y_0['exang']== 1]).shape[0] *(Y_0.loc[Y_0['slope']== 2]).shape[0] *(Y_0.loc[Y_0['ca']== 1]).shape[0] *(Y_0.loc[Y_0['thal']== 1]).shape[0] *P_Y0\n",
    "t0 /= pow(Y_0.shape[0] , 9)\n",
    "t1 = (Y_1.loc[Y_1['age']==-1]).shape[0] * (Y_1.loc[Y_1['sex']== 0]).shape[0] *(Y_1.loc[Y_1['cp']== 0]).shape[0] *(Y_1.loc[Y_1['fbs']== 1]).shape[0] *(Y_1.loc[Y_1['restecg']== 1]).shape[0] *(Y_1.loc[Y_1['exang']== 1]).shape[0] *(Y_1.loc[Y_1['slope']== 2]).shape[0] *(Y_1.loc[Y_1['ca']== 1]).shape[0] *(Y_1.loc[Y_1['thal']== 1]).shape[0] *P_Y1\n",
    "t1 /= pow(Y_1.shape[0] , 9)\n",
    "k = 1/(t0+t1)\n",
    "if(t0>t1):\n",
    "    pred = 0\n",
    "    confidence = k*t0\n",
    "else:\n",
    "    pred = 1\n",
    "    confidence = k*t1\n"
   ]
  },
  {
   "cell_type": "code",
   "execution_count": null,
   "metadata": {
    "id": "wOWQPZ91TxIO"
   },
   "outputs": [],
   "source": [
    "#Write your answers here\n",
    "ans[3]=[pred,confidence,k]"
   ]
  },
  {
   "cell_type": "code",
   "execution_count": null,
   "metadata": {
    "id": "ObEnKPLzTy_M"
   },
   "outputs": [],
   "source": [
    "# Splitting the data for fitting a library naive bayes model from sklearn\n",
    "# Use train_test_split to split the data\n",
    "\n",
    "# Split the data into train and test (train-90% and test-10%)\n",
    "# Strictly use (randon_state = 42) in train_test_split ,so that your answer can be evaluated\n",
    "\n",
    "# Write your code here \n",
    "from sklearn.model_selection import train_test_split\n",
    "Y=dataset['target']\n",
    "X=dataset.drop('target',axis=1)\n",
    "X_train,X_test,Y_train,Y_test = train_test_split(X,Y,test_size=0.1,random_state=42)\n"
   ]
  },
  {
   "cell_type": "code",
   "execution_count": null,
   "metadata": {
    "id": "MfGPAaQIUOqR"
   },
   "outputs": [],
   "source": [
    "# QUESTION - 5 :- (2marks)\n",
    "#         Import the  GaussianNB  model from sklearn and find the no of wrong predictions on the testing set\n",
    "# i.e. train and fit the model on the training set and predict the output if the heart disease exists or not \n",
    "#         Compare the predicted and the testing labels and enter the no.of wrongly predicted lables in ans[3]   "
   ]
  },
  {
   "cell_type": "code",
   "execution_count": null,
   "metadata": {
    "id": "C28MlyRXUSX0"
   },
   "outputs": [],
   "source": [
    "#Importing the Gaussian naive bayes classifier model from sklearn\n",
    "\n",
    "from sklearn.naive_bayes import GaussianNB\n",
    "\n",
    "#Write your code below\n",
    "clf = GaussianNB()\n",
    "clf.fit(X_train,Y_train)\n",
    "Y_pred = clf.predict(X_test)\n",
    "count=0\n",
    "Y_test = Y_test.reset_index(drop=True)\n",
    "for x in range(len(Y_test)):\n",
    "    if(Y_pred[x]==Y_test[x]):\n",
    "        count+=1;"
   ]
  },
  {
   "cell_type": "code",
   "execution_count": null,
   "metadata": {
    "id": "OiP39HLlUWDH"
   },
   "outputs": [],
   "source": [
    "#Write your answers here\n",
    "\n",
    "ans[4]=len(Y_test)-count"
   ]
  },
  {
   "cell_type": "code",
   "execution_count": null,
   "metadata": {
    "id": "HeewVdmGUISl"
   },
   "outputs": [],
   "source": [
    "import json\n",
    "ans = [str(item) for item in ans]\n",
    "\n",
    "filename = \"group15_sayush7755@gmail.com_Abhishek_Singh_NaiveBayes\"\n",
    "\n",
    "# Eg if your name is Saurav Joshi and email id is sauravjoshi123@gmail.com, filename becomes\n",
    "# filename = sauravjoshi123@gmail.com_Saurav_Joshi_NaiveBayes"
   ]
  },
  {
   "cell_type": "markdown",
   "metadata": {
    "id": "eCgJctGfUISm"
   },
   "source": [
    "## Do not change anything below!!\n",
    "- Make sure you have changed the above variable \"filename\" with the correct value. Do not change anything below!!"
   ]
  },
  {
   "cell_type": "code",
   "execution_count": null,
   "metadata": {
    "colab": {
     "base_uri": "https://localhost:8080/",
     "height": 420
    },
    "id": "YB-otFEwUISq",
    "outputId": "61e126e9-780b-4b06-a4d8-1755af11bb1a"
   },
   "outputs": [],
   "source": [
    "from importlib import import_module\n",
    "import os\n",
    "from pprint import pprint\n",
    "\n",
    "findScore = import_module('findScore')\n",
    "response = findScore.main(ans)\n",
    "response['details'] = filename\n",
    "with open(f'evaluation_{filename}.json', 'w') as outfile:\n",
    "    json.dump(response, outfile)\n",
    "pprint(response)"
   ]
  },
  {
   "cell_type": "code",
   "execution_count": null,
   "metadata": {
    "id": "AcZgWASzUf4_"
   },
   "outputs": [],
   "source": []
  }
 ],
 "metadata": {
  "colab": {
   "collapsed_sections": [],
   "name": "group15_mohanlals1211973@gmail.com_Harsh_Sharma_NaiveBayes.ipynb",
   "provenance": []
  },
  "kernelspec": {
   "display_name": "Python 3",
   "language": "python",
   "name": "python3"
  },
  "language_info": {
   "codemirror_mode": {
    "name": "ipython",
    "version": 3
   },
   "file_extension": ".py",
   "mimetype": "text/x-python",
   "name": "python",
   "nbconvert_exporter": "python",
   "pygments_lexer": "ipython3",
   "version": "3.8.8"
  }
 },
 "nbformat": 4,
 "nbformat_minor": 1
}
