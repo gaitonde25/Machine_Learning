{
 "cells": [
  {
   "cell_type": "markdown",
   "metadata": {
    "id": "pGWWA_Qof_tW"
   },
   "source": [
    "# BAGGING\n",
    "\n",
    "Bagging improves the performance of several basic algorithms by making it more robust.\n",
    "\n",
    "We will look at Linear Regression and Decision Tree Regressor model as our base models for Bagging.\n",
    "\n",
    "We will use a housing price dataset (regression problem) with 13 features and 506 data samples."
   ]
  },
  {
   "cell_type": "markdown",
   "metadata": {
    "id": "QQbVgiox726I"
   },
   "source": [
    "## IMPORTING PACKAGES\n",
    "\n",
    "The important packages have been imported for you."
   ]
  },
  {
   "cell_type": "code",
   "execution_count": null,
   "metadata": {
    "id": "OmMjJpbMbXBk"
   },
   "outputs": [],
   "source": [
    "# IMPORTING IMPORTANT PACKAGES\n",
    "# RUN THE CELL AS IT IS.\n",
    "# DO NOT CHANGE THIS CELL!\n",
    "\n",
    "import numpy as np\n",
    "import pandas as pd\n",
    "import json\n",
    "import matplotlib.pyplot as plt\n",
    "from sklearn.datasets import load_boston\n",
    "from sklearn.metrics import mean_squared_error\n",
    "from sklearn.linear_model import LinearRegression\n",
    "from sklearn.tree import DecisionTreeRegressor\n",
    "from sklearn.model_selection import train_test_split\n",
    "ans = [0]*7"
   ]
  },
  {
   "cell_type": "markdown",
   "metadata": {
    "id": "hixbemiQj97e"
   },
   "source": [
    "## RANDOM NUMBER/LIST GENERATOR\n",
    "\n",
    "We will be using this function to generate a list of random numbers to get consistent results which are important for evaluation. While doing your own projects and work you can use libraries like random and numpy.\n",
    "\n",
    "A brief description of the function:\n",
    "\n",
    "_random_generator(seed, low, high, size)_\n",
    "\n",
    "**seed** = A different seed generates a new list of random number but for the same seed, the same random number is generated.\n",
    "\n",
    "**low** = Lower limit of the range in which to generate random numbers. (**INCLUSIVE**)\n",
    "\n",
    "**high** = Upper limit of the range in which to generate random numbers. (**EXCLUSIVE**)\n",
    "\n",
    "**size** = Number of random numbers to generate. If size = 1, then one scalar number is returned. If size>1 then a list of random numbers is generated.\n",
    "\n",
    "Similar for _unique_random_generator_. This function returns a list of unique random numbers unline _random_generator_"
   ]
  },
  {
   "cell_type": "code",
   "execution_count": null,
   "metadata": {
    "id": "BnOIgojnkFEP"
   },
   "outputs": [],
   "source": [
    "def random_generator(seed = 0, low = 0, high = None, size = None):\n",
    "    s = seed\n",
    "    a = 11\n",
    "    b = 13\n",
    "\n",
    "    if high is None:\n",
    "        return (\"Error. Upper Limit not found\")\n",
    "    if size is None:\n",
    "        return (\"Error. Size not found\")\n",
    "    if size == 1:\n",
    "        return ((a*s+b)%high)\n",
    "    random_list = []\n",
    "    for i in range(size):\n",
    "        random_list.append((a*s+b)%high)\n",
    "        s = (a*s+b)\n",
    "    return random_list"
   ]
  },
  {
   "cell_type": "markdown",
   "metadata": {
    "id": "NgOhXYm579DV"
   },
   "source": [
    "## LOADING DATASET\n",
    "The dataset is of a regression problem.\n",
    "\n",
    "The target label is housing price. There are 13 features all of which are numerical in nature.\n"
   ]
  },
  {
   "cell_type": "code",
   "execution_count": null,
   "metadata": {
    "colab": {
     "base_uri": "https://localhost:8080/"
    },
    "id": "-d4XNpBPfMpk",
    "outputId": "48c94b61-7b11-4fec-804d-14bc8151ef13"
   },
   "outputs": [],
   "source": [
    "# LOADING THE DATASET\n",
    "# RUN THE CELL AS IT IS\n",
    "# DO NOT CHANGE THIH CELL\n",
    "\n",
    "# reg_dataset -> Regression Dataset : Boston Dataset with Housing price as the target and 13 Features related to the houses.\n",
    "# There are no categorical variables.\n",
    "\n",
    "def load_dataset():\n",
    "    reg_x, reg_y = load_boston(return_X_y = True)\n",
    "    reg_data = np.concatenate((reg_x, np.array(reg_y).reshape(-1, 1)), axis = 1)\n",
    "    cols = [\"feature\"+str(i) for i in range(1, 14)]\n",
    "    cols = cols + [\"price(target)\"]\n",
    "    reg_dataset = pd.DataFrame(data = reg_data, columns = cols)\n",
    "\n",
    "    return reg_dataset\n",
    "\n",
    "reg_dataset = load_dataset()\n",
    "print(\"REGRESSION DATASET : \\n\", reg_dataset)"
   ]
  },
  {
   "cell_type": "markdown",
   "metadata": {
    "id": "ik2zgN9zgVn3"
   },
   "source": [
    "## SPLITTING INTO TRAIN AND TEST SET\n",
    "\n",
    "We will divide the dataset into train and test set in the ratio 8:2.\n",
    "Sklearn's built-in function \"train_test_split\" is supposed to be used.\n",
    "\n",
    "eg:- train_x, test_x, train_y, test_y = train_test_split(x, y, test_size = k, random_state = integer)  where k is a floating point number between 0 and 1. The number signifies the fraction of dataset to be given to the test dataset.\n",
    "\n",
    "**NOTE**: Use random_state = 40 for evaluation purposes\n",
    "\n",
    "Confirm that your training and test set are correctly alloted by checking with the number of samples in each."
   ]
  },
  {
   "cell_type": "code",
   "execution_count": null,
   "metadata": {
    "id": "CYYB4xzxzfdz"
   },
   "outputs": [],
   "source": [
    "# DIVIDE THE DATASET INTO TRAINING AND TEST SET\n",
    "# Use \"train_test_split\" from sklearn to split the dataset into 8:2 ratio.\n",
    "# TRAINING SET SIZE : TEST SET SIZE = 8 : 2\n",
    "# NOTE: USE \"random_state = 40\" WHILE SPLITTING. OTHERWISE EVALUATION MIGHT BE WRONG\n",
    "\n",
    "# START YOUR CODE HERE\n",
    "\n",
    "X = reg_dataset.iloc[:, [*range(len(reg_dataset.columns)-1)]]\n",
    "y = reg_dataset.iloc[:, [-1]]\n",
    "\n",
    "X_train, X_test, y_train, y_test = train_test_split(X, y, test_size= 0.2, random_state= 40)\n",
    "\n",
    "# END YOUR CODE HERE"
   ]
  },
  {
   "cell_type": "markdown",
   "metadata": {
    "id": "q8SuUYrbH4ZD"
   },
   "source": [
    "## QUESTIONS:\n",
    "The first part of the assignment focuses on Linear Regression Models and the second part focuses on Decision Tree models.\n",
    "\n",
    "Places where you need to write your code have been indicated. Some parameters have been fixed for evaluation purposes. Be careful not to change them."
   ]
  },
  {
   "cell_type": "markdown",
   "metadata": {
    "id": "954KWjs0rHkC"
   },
   "source": [
    "#### **BAGGING WITH LINEAR REGRESSION MODELS**"
   ]
  },
  {
   "cell_type": "markdown",
   "metadata": {
    "id": "gmZGRqKnhlGT"
   },
   "source": [
    "### **QUESTION 1**: Fit a Linear Regression model on  randomly sampled (with replacement) training data and assign the mean squared error of the predictions on the test set to ans[0]. (1 mark).\n",
    "**NOTE**: You can use the mean squared error from sklearn which has been imported above for you.\n",
    "\n",
    "**NOTE**: While randomly sampling we need to select 404 training samples but not all of them need to be unique.\n",
    "\n",
    "**HINT**: mse = mean_squared_error(y_true, y_pred) where the mean squared error gets stored in the variable mse.\n",
    "\n",
    "**HINT**: df.iloc[[0, 2, 0, 4], 1] selects the 1st, 3rd, 1st and 5th data sample(row) from the df DataFrame."
   ]
  },
  {
   "cell_type": "code",
   "execution_count": null,
   "metadata": {
    "id": "UkQLqfLFZkiF"
   },
   "outputs": [],
   "source": [
    "# SOME PART OF THE CODE HAS BEEN WRITTEN FOR YOU. DO NOT CHANGE THEM OTHERWISE IT MIGHT BE WRONGLY EVALUATED.\n",
    "# THE DATA SAMPLES HAVE BEEN SELECTED FOR YOU FOR EVALUATION PURPOSES.\n",
    "\n",
    "\n",
    "linreg1 = LinearRegression()                 # 1st Linear Regression Model for you to use\n",
    "row_index = random_generator(1, 0, 404, 404) # Row indexes that you need to fit your model on. Do not change it.\n",
    "\n",
    "# Try to print row_index to understand what \"randomly sampled with replacement means\"\n",
    "\n",
    "# START YOUR CODE HERE:\n",
    "\n",
    "X_train_temp = X_train.iloc[row_index, :]\n",
    "y_train_temp = y_train.iloc[row_index, :]\n",
    "\n",
    "linreg1 = linreg1.fit(X_train_temp, y_train_temp)\n",
    "y_pred1 = linreg1.predict(X_test)\n",
    "\n",
    "mse_test = mean_squared_error(y_test, y_pred1)\n",
    "\n",
    "# END YOUR CODE HERE\n"
   ]
  },
  {
   "cell_type": "code",
   "execution_count": null,
   "metadata": {
    "id": "QkwQhqgOkuT_"
   },
   "outputs": [],
   "source": [
    "# SUBSTITUTE YOUR ANSWER IN PLACE OF None\n",
    "\n",
    "ans[0] = mse_test     "
   ]
  },
  {
   "cell_type": "markdown",
   "metadata": {
    "id": "oArkbM4fj4cW"
   },
   "source": [
    "### **QUESTION 2**: Fit a second linear Regression model on new randomly sampled (with replacement) training data and assign the mean squared error of the average of the predictions of the two linear regression models on the test set to ans[1]. (1 mark)\n",
    "eg:- If for a particular data point, model1 predicts 20.0 and model2 predicts 30.0 then the final prediction should be 25.0.\n",
    "\n",
    "**WARNING**: The question asks for the mean squared error of the predictions and not the predictions themselves."
   ]
  },
  {
   "cell_type": "code",
   "execution_count": null,
   "metadata": {
    "id": "ALm_gV2TbL9d"
   },
   "outputs": [],
   "source": [
    "# SOME PART OF THE CODE HAS BEEN WRITTEN FOR YOU. DO NOT CHANGE WHERE NOT INDICATED.\n",
    "# THE DATA SAMPLES HAVE BEEN SELECTED FOR YOU\n",
    "\n",
    "linreg2 = LinearRegression()                   # 2nd Linear Regression Model\n",
    "row_index = random_generator(3, 0, 404, 404)   # Row indexes that you need to fit your model on. Do not change it.\n",
    "\n",
    "# Use the previous linear regression model (linreg1) as your first model. You have already trained your linreg1 so \n",
    "# you do not need to do that again. The final predictions would be the average of the predictions of these two models.\n",
    "\n",
    "# START YOUR CODE HERE:\n",
    "\n",
    "X_train_temp = X_train.iloc[row_index, :]\n",
    "y_train_temp = y_train.iloc[row_index, :]\n",
    "\n",
    "linreg2 = linreg2.fit(X_train_temp, y_train_temp)\n",
    "y_pred2 = linreg2.predict(X_test)\n",
    "\n",
    "y_pred_final = (y_pred1 + y_pred2) / 2\n",
    "\n",
    "mse_test = mean_squared_error(y_test, y_pred_final)\n",
    "\n",
    "# END YOUR CODE HERE"
   ]
  },
  {
   "cell_type": "code",
   "execution_count": null,
   "metadata": {
    "id": "xOszhR9qoh0F"
   },
   "outputs": [],
   "source": [
    "# SUBSTITUTE YOUR ANSWER IN PLACE OF None\n",
    "\n",
    "ans[1] = mse_test "
   ]
  },
  {
   "cell_type": "markdown",
   "metadata": {
    "id": "uXnpab3BkvQe"
   },
   "source": [
    "Did the combined predictions have a lower mean squared error compared to the individual mean squared errors of the two models?"
   ]
  },
  {
   "cell_type": "markdown",
   "metadata": {
    "id": "xPKf7txfk9zj"
   },
   "source": [
    "### **QUESTION 3**: Fit a third linear Regression model on  new randomly sampled (with replacement) training data and assign the mean squared error of the average of the predictions  of the three linear regression models on the test set to ans[2].    (2 marks)\n",
    "eg:- If for a particular data point, model1 predicts 20.0, model2 predicts 30.0 and model3 predicts 70.0 then the final prediction should be (20.0+30.0+70.0)/3 = 60.0.\n",
    "\n",
    "**WARNING**: The question asks for the mean squared error of the predictions and not the predictions themselves."
   ]
  },
  {
   "cell_type": "code",
   "execution_count": null,
   "metadata": {
    "id": "pTqKefc4WPGj"
   },
   "outputs": [],
   "source": [
    "# SOME PART OF THE CODE HAS BEEN WRITTEN FOR YOU. DO NOT CHANGE WHERE NOT INDICATED.\n",
    "# THE DATA SAMPLES HAVE BEEN SELECTED FOR YOU\n",
    "\n",
    "linreg3 = LinearRegression()                  # 3rd Linear Regression Model\n",
    "row_index = random_generator(5, 0, 404, 404)      # Row indexes that you need to fit your model on. Do not change it.\n",
    "\n",
    "# linreg1, linreg2 and linreg3 would be your 3 models. You have already fitted linreg1 and linreg2 so you do not need to \n",
    "# train them again.\n",
    "\n",
    "# START YOUR CODE HERE:. \n",
    "\n",
    "X_train_temp = X_train.iloc[row_index, :]\n",
    "y_train_temp = y_train.iloc[row_index, :]\n",
    "\n",
    "linreg3 = linreg3.fit(X_train_temp, y_train_temp)\n",
    "y_pred3 = linreg3.predict(X_test)\n",
    "\n",
    "y_pred_final = (y_pred1 + y_pred2 + y_pred3) / 3\n",
    "\n",
    "mse_test = mean_squared_error(y_test, y_pred_final)\n",
    "\n",
    "# END YOUR CODE HERE"
   ]
  },
  {
   "cell_type": "code",
   "execution_count": null,
   "metadata": {
    "id": "StsvpP6Ur-Gz"
   },
   "outputs": [],
   "source": [
    "# SUBSTITUTE YOUR ANSWER IN PLACE OF None\n",
    "\n",
    "ans[2] = mse_test             "
   ]
  },
  {
   "cell_type": "markdown",
   "metadata": {
    "id": "-ZwqG5Yumz6W"
   },
   "source": [
    "Did the mean squared error of the averaged predictions (ensembled predictions) reduced further? Is it less than the individual mean squared errors of the models?"
   ]
  },
  {
   "cell_type": "markdown",
   "metadata": {
    "id": "mnV4AbeBnC14"
   },
   "source": [
    "### **QUESTION 4**: Fit a fourth linear Regression model on new randomly sampled training data and assign the mean squared error of the average of the predictions of the four linear regression models on the test set to ans[3]. (1 mark)\n",
    "**WARNING**; The question asks for the mean squared error of the predictions and not the predictions themselves."
   ]
  },
  {
   "cell_type": "code",
   "execution_count": null,
   "metadata": {
    "id": "IaAHQn_6_sHQ"
   },
   "outputs": [],
   "source": [
    "# SOME PART OF THE CODE HAS BEEN WRITTEN FOR YOU. DO NOT CHANGE WHERE NOT INDICATED.\n",
    "# THE DATA SAMPLES HAVE BEEN SELECTED FOR YOU\n",
    "\n",
    "linreg4 = LinearRegression()                  # 3rd Linear Regression Model\n",
    "row_index = random_generator(7, 0, 404, 404)    # Row indexes that you need to fit your model on. Do not change it.\n",
    "\n",
    "# Use the previous 3 models(linreg1, linreg2, linreg3) and do not train them again.\n",
    "\n",
    "# START YOUR CODE HERE:. \n",
    "\n",
    "X_train_temp = X_train.iloc[row_index, :]\n",
    "y_train_temp = y_train.iloc[row_index, :]\n",
    "\n",
    "linreg4 = linreg4.fit(X_train_temp, y_train_temp)\n",
    "y_pred4 = linreg4.predict(X_test)\n",
    "\n",
    "y_pred_final = (y_pred1 + y_pred2 + y_pred3 + y_pred4) / 4\n",
    "\n",
    "mse_test = mean_squared_error(y_test, y_pred_final)\n",
    "\n",
    "# END YOUR CODE HERE"
   ]
  },
  {
   "cell_type": "code",
   "execution_count": null,
   "metadata": {
    "id": "ED44sOCVAAuI"
   },
   "outputs": [],
   "source": [
    "# SUBSTITUTE YOUR ANSWER IN PLACE OF None\n",
    "\n",
    "ans[3] = mse_test"
   ]
  },
  {
   "cell_type": "markdown",
   "metadata": {
    "id": "jVulVpHnoHVV"
   },
   "source": [
    "Did the mean squared error reduce this time as well? If not, then why?\n",
    "\n",
    "So the final error depends also on how good the individual models are. Let's look at how a large number of models perform together."
   ]
  },
  {
   "cell_type": "markdown",
   "metadata": {
    "id": "YfWURQ2spgk5"
   },
   "source": [
    "### **QUESTION 5**: Fit 50 linear Regression models on randomly sampled training data (new random sampling for each model) and assign the mean squared error of the average of the predictions of the 50 linear regression models on the test set to ans[4]. (2 marks)\n",
    "eg:- If model1 predicts y1, model2 predicts y2 and so on till y50, then final prediction would be (y1+y2+...+y50)/50.\n",
    "\n",
    "**WARNING**; The question asks for the mean squared error of the predictions and not the predictions themselves."
   ]
  },
  {
   "cell_type": "code",
   "execution_count": null,
   "metadata": {
    "id": "CkdyOmy4AG7U"
   },
   "outputs": [],
   "source": [
    "# SOME PART OF THE CODE HAS BEEN WRITTEN FOR YOU. DO NOT CHANGE WHERE NOT INDICATED.\n",
    "# FEEL FREE TO USE MORE CELLS FOR YOUR CODE.\n",
    "# THE DATA SAMPLES HAVE BEEN SELECTED FOR YOU\n",
    "# HINT: You can add the predictions in a for loop.\n",
    "\n",
    "n = 50                                           # 50 Linear Regression models \n",
    "train_preds = 0\n",
    "test_preds = 0\n",
    "\n",
    "test_mse_all = []\n",
    "\n",
    "np.random.seed(10)                               # Used for consistent answers for evaluation purposes\n",
    "subset_seed = random_generator(10, 0, 200, n)\n",
    "for i in range(n):\n",
    "    np.random.seed(subset_seed[i])                            # Used for consistent answers for evaluation purposes\n",
    "    row_index = random_generator(subset_seed[i], 0, 404, 404) # Row indexes that you need to fit your model on. Do not change it.\n",
    "    \n",
    "  # START YOUR CODE HERE:\n",
    "\n",
    "    linreg = LinearRegression()    \n",
    "\n",
    "    X_train_temp = X_train.iloc[row_index, :]\n",
    "    y_train_temp = y_train.iloc[row_index, :]\n",
    "\n",
    "    linreg = linreg.fit(X_train_temp, y_train_temp)\n",
    "    \n",
    "    train_pred = linreg.predict(X_train)\n",
    "    test_pred = linreg.predict(X_test)\n",
    "\n",
    "    train_preds += train_pred\n",
    "    test_preds += test_pred\n",
    "\n",
    "    test_mse_all.append(mean_squared_error(y_test, test_preds / (i+1)))\n",
    "\n",
    "train_preds /= n\n",
    "test_preds /= n\n",
    "\n",
    "mse_test = mean_squared_error(y_test, test_preds)\n",
    "\n",
    "  # END YOUR CODE HERE"
   ]
  },
  {
   "cell_type": "code",
   "execution_count": null,
   "metadata": {
    "id": "VdnNvKphAHAO"
   },
   "outputs": [],
   "source": [
    "# SUBSTITUTE YOUR ANSWER IN PLACE OF None\n",
    "\n",
    "ans[4] = mse_test"
   ]
  },
  {
   "cell_type": "markdown",
   "metadata": {
    "id": "NDvLAI-hqQb2"
   },
   "source": [
    "Is it lower than the previous mean squared errors? \n",
    "If yes, does it go down till 0? To check that try plotting the test mean squared error vs no of linear regression models used.\n",
    "\n",
    "Some of the matplotlib code has been written for you."
   ]
  },
  {
   "cell_type": "markdown",
   "metadata": {
    "id": "olb6n0TmuB_z"
   },
   "source": [
    "#### PLOTTING TEST MSE VS NUM OF MODELS USED"
   ]
  },
  {
   "cell_type": "code",
   "execution_count": null,
   "metadata": {
    "colab": {
     "base_uri": "https://localhost:8080/",
     "height": 295
    },
    "id": "er4isr2XAG9p",
    "outputId": "177ad107-b100-4aff-c98e-218ced6183a6"
   },
   "outputs": [],
   "source": [
    "# num_models : list of the number of models\n",
    "# test_mse : list of the corresponding test mean squared error\n",
    "\n",
    "num_models = [*range(1, n+1)]        # remember to replace it with your number of models used\n",
    "test_mse = test_mse_all         # remember to replace it with your test mean square errors\n",
    "\n",
    "plt.plot(num_models, test_mse, c = \"b\", label = \"Test Mean Squared Error\")\n",
    "plt.xlabel(\"Number of Linear Regression Models\")\n",
    "plt.legend()\n",
    "plt.ylabel(\"Mean Squared Error\")\n",
    "plt.title(\"Mean Squared Error vs Num of Linear Regression Models\")\n",
    "plt.gca().set_xlim(left = 0)\n",
    "plt.show()"
   ]
  },
  {
   "cell_type": "markdown",
   "metadata": {
    "id": "G4PSn4C1qu8Z"
   },
   "source": [
    "Can you justify why bagging helps?\n",
    "If there is slight dip in the test mse curve (i.e it does not saturate at its lowest point) can you explain why is it?\n",
    "\n",
    "**HINT**: You can also try plotting the mean sqaured error of the predictions on the _WHOLE_ training set to gather more insight."
   ]
  },
  {
   "cell_type": "markdown",
   "metadata": {
    "id": "sJFnnptfrQiV"
   },
   "source": [
    "#### **BAGGING WITH DECISION TREE MODELS**"
   ]
  },
  {
   "cell_type": "markdown",
   "metadata": {
    "id": "2nj1soMPrbsy"
   },
   "source": [
    "### **QUESTION 6**: Fit a single DecisionTree Regression model on randomly sampled(with replacement) training data and assign the mean squared error of the predictions on the test set to ans[5]. (1 mark)"
   ]
  },
  {
   "cell_type": "code",
   "execution_count": null,
   "metadata": {
    "id": "ztDG1UjD1D60"
   },
   "outputs": [],
   "source": [
    "# SOME PART OF THE CODE HAS BEEN WRITTEN FOR YOU. DO NOT MAKE CHANGES WHERE NOT INDICATED.\n",
    "# THE DATA SAMPLES HAVE BEEN SELECTED FOR YOU.\n",
    "\n",
    "dt1 = DecisionTreeRegressor(max_depth = 3, random_state = 10)    # Decision tree that you have to use. Don't change parameters.\n",
    "row_index = random_generator(8, 0, 404, 404)                     # Row indexes that you need to fit your model on. Do not change it.\n",
    " \n",
    "# START YOUR CODE HERE:. \n",
    "\n",
    "X_train_temp = X_train.iloc[row_index, :]\n",
    "y_train_temp = y_train.iloc[row_index, :]\n",
    "\n",
    "dt1 = dt1.fit(X_train_temp, y_train_temp)\n",
    "y_pred_dt1 = dt1.predict(X_test)\n",
    "\n",
    "mse_test = mean_squared_error(y_test, y_pred_dt1)\n",
    "\n",
    "# END YOUR CODE HERE"
   ]
  },
  {
   "cell_type": "code",
   "execution_count": null,
   "metadata": {
    "id": "Lf_P5m3M2a7s"
   },
   "outputs": [],
   "source": [
    "# SUBSTITUTE YOUR ANSWER IN PLACE OF None\n",
    "\n",
    "ans[5] = mse_test"
   ]
  },
  {
   "cell_type": "markdown",
   "metadata": {
    "id": "13JGpdIwsdIP"
   },
   "source": [
    "### **QUESTION 7**: Train and fit 50 Decision Trees on randomly sampled training data (new random sampling for each decision tree) and assign the mean squared error of the average of all predictions on the test set to ans[6]. (2 marks)\n",
    "eg:- If model1 predicts y1, model2 predicts y2 and so on till y50, then final prediction would be (y1+y2+...+y50)/50.\n",
    "\n",
    "**WARNING**: The question asks for the mean squared error and not the final prediction."
   ]
  },
  {
   "cell_type": "code",
   "execution_count": null,
   "metadata": {
    "id": "Tf856N7_W8eg"
   },
   "outputs": [],
   "source": [
    "# SOME PART OF THE CODE HAS BEEN WRITTEN FOR YOU. DO NOT MAKE CHANGES WHERE NOT INDICATED.\n",
    "# THE DATA SAMPLE HAS BEEN SELECTED FOR YOU.\n",
    "\n",
    "n = 50\n",
    "train_preds = 0\n",
    "test_preds = 0\n",
    "\n",
    "test_mse_all = []\n",
    "\n",
    "np.random.seed(11)                                                  # Used for consistent answers for evaluation purposes.\n",
    "subset_seed = random_generator(9, 0, 200, n)\n",
    "for i in range(n):\n",
    "    row_index = random_generator(subset_seed[i], 0, 404, 404)                     # Row indexes that you need to fit your model on. Do not change it.\n",
    "    dt = DecisionTreeRegressor(max_depth = 3, random_state = 10)      # Decision Tree that you need to use.Don't change parameters.\n",
    "\n",
    "  # START YOUR CODE HERE:  \n",
    "\n",
    "    X_train_temp = X_train.iloc[row_index, :]\n",
    "    y_train_temp = y_train.iloc[row_index, :]\n",
    "\n",
    "    dt = dt.fit(X_train_temp, y_train_temp)\n",
    "    \n",
    "    train_pred = dt.predict(X_train)\n",
    "    test_pred = dt.predict(X_test)\n",
    "\n",
    "    train_preds += train_pred\n",
    "    test_preds += test_pred\n",
    "\n",
    "    test_mse_all.append(mean_squared_error(y_test, test_preds / (i+1)))\n",
    "\n",
    "train_preds /= n\n",
    "test_preds /= n\n",
    "\n",
    "mse_test = mean_squared_error(y_test, test_preds)\n",
    "\n",
    "  # END YOUR CODE HERE "
   ]
  },
  {
   "cell_type": "code",
   "execution_count": null,
   "metadata": {
    "id": "ZWGQ1JrgjYPD"
   },
   "outputs": [],
   "source": [
    "# SUBSTITUTE YOUR ANSWER IN PLACE OF None\n",
    "\n",
    "ans[6] = mse_test"
   ]
  },
  {
   "cell_type": "markdown",
   "metadata": {
    "id": "zXi-uVyNtLMR"
   },
   "source": [
    "Try to plot the test mean squared error vs the num of decision trees used for that prediction. The graph should be similar to the Linear Regression graph. \n",
    "\n",
    "You can also try to plot the mean squared error of the predictions on the _WHOLE_ training dataset to gain more insight.\n",
    "\n",
    "Some of the matplotlib code has been written for you."
   ]
  },
  {
   "cell_type": "markdown",
   "metadata": {
    "id": "ijXWHiyDt7f7"
   },
   "source": [
    "#### PLOTTING THE TEST MSE VS NUM OF DECISION TREES"
   ]
  },
  {
   "cell_type": "code",
   "execution_count": null,
   "metadata": {
    "colab": {
     "base_uri": "https://localhost:8080/",
     "height": 295
    },
    "id": "hfyVl6W3SoWZ",
    "outputId": "e4bc0876-f257-443a-8f7c-7ab8d03dee4b"
   },
   "outputs": [],
   "source": [
    "# num_trees : list of the number of trees\n",
    "# test_mse : list of the corresponding test mean squared error\n",
    "\n",
    "num_trees = [*range(1, n+1)]         # remember to replace it with your implemented code\n",
    "test_mse = test_mse_all          # remember to replace it with your implemented code\n",
    "\n",
    "plt.plot(num_trees, test_mse, c = \"b\", label = \"Test Mean Squared Error\")\n",
    "plt.xlabel(\"Number of Linear Regression Models\")\n",
    "plt.legend()\n",
    "plt.ylabel(\"Mean Squared Error\")\n",
    "plt.title(\"Mean Squared Error vs Num of Linear Regression Models\")\n",
    "plt.gca().set_xlim(left = 0)\n",
    "plt.show()"
   ]
  },
  {
   "cell_type": "markdown",
   "metadata": {
    "id": "bxdkZl-ltxf-"
   },
   "source": [
    "Did the Decision Tree Perform better or the Linear Regression Model?\n",
    "\n",
    "Was there a dip in the test mean squared error in the Decision Trees?\n",
    "\n",
    "Keep the test mean square error in mind for the next assignment where we will tweak the decision tree model a bit to arrive at a very popular model called Random Forest model."
   ]
  },
  {
   "cell_type": "code",
   "execution_count": null,
   "metadata": {
    "id": "8rd4vNkMUlCn"
   },
   "outputs": [],
   "source": [
    "import json\n",
    "ans = [str(item) for item in ans]\n",
    "\n",
    "filename = \"group15_sayush7755@gmail.com_Abhishek_Singh_Baaging\"\n",
    "\n",
    "# Eg if your name is Saurav Joshi and group id is 0, filename becomes\n",
    "# filename = group0_Saurav_Joshi_Bagging"
   ]
  },
  {
   "cell_type": "markdown",
   "metadata": {
    "id": "PPfsGXKVOWH3"
   },
   "source": [
    "## Do not change anything below!!\n",
    "- Make sure you have changed the above variable \"filename\" with the correct value. Do not change anything below!!"
   ]
  },
  {
   "cell_type": "code",
   "execution_count": null,
   "metadata": {
    "colab": {
     "base_uri": "https://localhost:8080/",
     "height": 420
    },
    "id": "tSJAs8nLd-6f",
    "outputId": "c046ae1f-c973-48f0-80bc-dc629bc012f6"
   },
   "outputs": [],
   "source": [
    "\n",
    "from importlib import import_module\n",
    "import os\n",
    "from pprint import pprint\n",
    "\n",
    "findScore = import_module('findScore')\n",
    "response = findScore.main(ans)\n",
    "response['details'] = filename\n",
    "with open(f'evaluation_{filename}.json', 'w') as outfile:\n",
    "    json.dump(response, outfile)\n",
    "pprint(response)"
   ]
  },
  {
   "cell_type": "code",
   "execution_count": null,
   "metadata": {
    "id": "Fw5eACxSTd42"
   },
   "outputs": [],
   "source": []
  }
 ],
 "metadata": {
  "colab": {
   "collapsed_sections": [],
   "name": "group0_Saurav_Joshi_Bagging (1).ipynb",
   "provenance": []
  },
  "kernelspec": {
   "display_name": "Python 3",
   "language": "python",
   "name": "python3"
  },
  "language_info": {
   "codemirror_mode": {
    "name": "ipython",
    "version": 3
   },
   "file_extension": ".py",
   "mimetype": "text/x-python",
   "name": "python",
   "nbconvert_exporter": "python",
   "pygments_lexer": "ipython3",
   "version": "3.8.8"
  }
 },
 "nbformat": 4,
 "nbformat_minor": 1
}
